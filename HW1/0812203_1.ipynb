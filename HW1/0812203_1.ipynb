{
  "nbformat": 4,
  "nbformat_minor": 0,
  "metadata": {
    "colab": {
      "name": "0812203_1",
      "provenance": [],
      "collapsed_sections": []
    },
    "kernelspec": {
      "name": "python3",
      "display_name": "Python 3"
    }
  },
  "cells": [
    {
      "cell_type": "code",
      "metadata": {
        "colab": {
          "base_uri": "https://localhost:8080/"
        },
        "id": "8693vFs5YgIv",
        "outputId": "439d6e59-dc33-494b-c957-02fa73ee403d"
      },
      "source": [
        "!wget https://lab.djosix.com/eight_puzzle.py -qO eight_puzzle.py\r\n",
        "!sha1sum eight_puzzle.py\r\n",
        "\r\n",
        "from eight_puzzle import EightPuzzle, test\r\n",
        "import heapq\r\n",
        "\r\n",
        "def H(state):\r\n",
        "  final = (1,2,3,4,5,6,7,8,0)\r\n",
        "  sum = 0\r\n",
        "  for i in range(0,9):\r\n",
        "    if state[i] != final[i]:\r\n",
        "      sum += 1\r\n",
        "  return sum\r\n",
        "\r\n",
        "def solve(p):\r\n",
        "\r\n",
        "  openTable = []\r\n",
        "  step = {p.state:[]}\r\n",
        "  G = {p.state:0}\r\n",
        "  F = {p.state:G[p.state] + H(p.state)}\r\n",
        "\r\n",
        "  heapq.heappush(openTable, (F[p.state],p.state))\r\n",
        "  \r\n",
        "  while openTable:\r\n",
        "    current = heapq.heappop(openTable)[1]\r\n",
        "    if current == p.FINAL_STATE:\r\n",
        "      return step[current]\r\n",
        "    for d in p.DIRECTIONS:\r\n",
        "      next = p.get_state_after_move(current,d)\r\n",
        "      if next is not None and next not in step:\r\n",
        "        G[next] = G[current] + 1\r\n",
        "        F[next] = G[next] + H(next)\r\n",
        "        heapq.heappush(openTable, (F[next],next))\r\n",
        "        step[next] = step[current]+[d]\r\n",
        "  return []\r\n",
        "\r\n",
        "results = test(solve, seed=123, n=10)"
      ],
      "execution_count": 1,
      "outputs": [
        {
          "output_type": "stream",
          "text": [
            "1b9a6e8af95aed1010690788274f6c453ae88ed6  eight_puzzle.py\n",
            "Running tests with seed: 123\n",
            "Test | seed: 55260453 | puzzle: (8, 6, 2, 5, 7, 0, 3, 1, 4) | elapsed: 0.3521s | solved\n",
            "Test | seed: 85291046 | puzzle: (2, 3, 4, 7, 0, 6, 1, 5, 8) | elapsed: 0.0180s | solved\n",
            "Test | seed: 54801393 | puzzle: (8, 2, 1, 3, 7, 6, 5, 4, 0) | elapsed: 0.4389s | solved\n",
            "Test | seed: 42905268 | puzzle: (4, 2, 1, 6, 5, 8, 7, 0, 3) | elapsed: 0.0513s | solved\n",
            "Test | seed: 31981756 | puzzle: (6, 2, 4, 3, 5, 8, 1, 0, 7) | elapsed: 0.0493s | solved\n",
            "Test | seed: 10224217 | puzzle: (5, 3, 4, 0, 8, 6, 2, 7, 1) | elapsed: 0.3525s | solved\n",
            "Test | seed: 68555945 | puzzle: (2, 4, 0, 6, 8, 3, 1, 7, 5) | elapsed: 0.0054s | solved\n",
            "Test | seed: 21759284 | puzzle: (3, 5, 4, 6, 1, 7, 2, 8, 0) | elapsed: 0.4297s | solved\n",
            "Test | seed: 90208442 | puzzle: (8, 7, 6, 3, 4, 0, 2, 5, 1) | elapsed: 0.7228s | solved\n",
            "Test | seed: 60679913 | puzzle: (6, 3, 2, 7, 4, 5, 8, 1, 0) | elapsed: 0.2686s | solved\n",
            "===> Solved: 10/10\n",
            "===> Average elapsed time: 0.2688s\n"
          ],
          "name": "stdout"
        }
      ]
    }
  ]
}